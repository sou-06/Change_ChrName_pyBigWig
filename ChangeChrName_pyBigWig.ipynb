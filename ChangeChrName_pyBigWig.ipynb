{
 "cells": [
  {
   "cell_type": "code",
   "execution_count": null,
   "id": "90faf2c6-8b1d-4f6e-a27a-a307751f2817",
   "metadata": {},
   "outputs": [],
   "source": [
    "!pip install pyBigWig"
   ]
  },
  {
   "cell_type": "code",
   "execution_count": 1,
   "id": "69b008e0-e552-4cd9-a925-4bee6ce6dd3a",
   "metadata": {},
   "outputs": [],
   "source": [
    "import pyBigWig"
   ]
  },
  {
   "cell_type": "code",
   "execution_count": 12,
   "id": "ec4806bf-77e9-475d-844c-2caec9a7d2fa",
   "metadata": {},
   "outputs": [],
   "source": [
    "filename = \"input.bw\"\n",
    "filename2 = \"output.bw\"\n",
    "\n",
    "# read in the name map\n",
    "d = {'Chr1':'1', 'Chr2':'2','Chr3':'3', 'Chr4':'4','Chr5':'5', 'ChrC':'ChrC', 'ChrM':'ChrM'}\n"
   ]
  },
  {
   "cell_type": "code",
   "execution_count": 13,
   "id": "e2b77cb1-0045-4e46-8a5f-da31420d2d3a",
   "metadata": {
    "scrolled": true
   },
   "outputs": [],
   "source": [
    "\n",
    "bw = pyBigWig.open(filename)\n",
    "\n",
    "# Make a new header\n",
    "hdr = [(d[chrom], length) for chrom, length in bw.chroms().items() if chrom in d]\n",
    "bwOutput = pyBigWig.open(filename2, \"w\")\n",
    "bwOutput.addHeader(hdr)\n",
    "ints = 0\n",
    "for chrom, length in bw.chroms().items():\n",
    "    ints = bw.intervals(chrom, 0, length)\n",
    "    if len(ints):\n",
    "        bwOutput.addEntries([d[chrom]] * len(ints),\n",
    "                            [x[0] for x in ints],\n",
    "                            ends=[x[1] for x in ints],\n",
    "                            values=[x[2] for x in ints],validate=False)\n",
    "\n",
    "bw.close()\n",
    "bwOutput.close()"
   ]
  },
  {
   "cell_type": "code",
   "execution_count": null,
   "id": "3a756cbc-f3c3-4de7-a1b1-1e771a835b6b",
   "metadata": {},
   "outputs": [],
   "source": []
  }
 ],
 "metadata": {
  "kernelspec": {
   "display_name": "Python 3 (ipykernel)",
   "language": "python",
   "name": "python3"
  },
  "language_info": {
   "codemirror_mode": {
    "name": "ipython",
    "version": 3
   },
   "file_extension": ".py",
   "mimetype": "text/x-python",
   "name": "python",
   "nbconvert_exporter": "python",
   "pygments_lexer": "ipython3",
   "version": "3.12.5"
  }
 },
 "nbformat": 4,
 "nbformat_minor": 5
}
